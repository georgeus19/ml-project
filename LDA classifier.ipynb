{
 "cells": [
  {
   "cell_type": "code",
   "execution_count": 3,
   "metadata": {},
   "outputs": [],
   "source": [
    "import numpy as np\n",
    "import matplotlib.pyplot as plt\n",
    "import seaborn as sns"
   ]
  },
  {
   "cell_type": "code",
   "execution_count": 4,
   "metadata": {},
   "outputs": [],
   "source": [
    "def read_data(path):\n",
    "    data = np.load(path)\n",
    "    labels = data.T[-1]\n",
    "    data = np.delete(data.T, -1, 0)\n",
    "    \n",
    "    return data.T, labels\n",
    "x_train, y_train = read_data(\"fashion_train.npy\")\n",
    "x_train = np.load(\"pca_59d_lda_4d_train.npy\").T\n",
    "_ , y_test = read_data(\"fashion_test.npy\")\n",
    "x_test = np.load('pca_59d_lda_4d_test.npy').T"
   ]
  },
  {
   "cell_type": "code",
   "execution_count": 6,
   "metadata": {},
   "outputs": [],
   "source": [
    "def calc_gausian_params(X,Y):\n",
    "    means = {}\n",
    "    covariance_mats = {}\n",
    "    priors = {}\n",
    "    classes = np.unique(Y)\n",
    "    for clss in classes:\n",
    "        class_data = X[np.where(Y == clss)]\n",
    "        means[clss] = np.mean(class_data,axis = 0)\n",
    "        covariance_mats[clss] = np.cov(class_data,rowvar=False)\n",
    "        priors[clss] = class_data.shape[0]/X.shape[0]\n",
    "    return means, covariance_mats, priors\n",
    "    "
   ]
  },
  {
   "cell_type": "code",
   "execution_count": 7,
   "metadata": {},
   "outputs": [],
   "source": [
    "def calc_gaussian_dist(x,mu,cov):\n",
    "    scalar = (1. / ((2 * np.pi) **\n",
    "                    (x.shape[0] / 2.))\n",
    "             ) * (1 / np.sqrt(np.linalg.det(cov)))\n",
    "    x_sub_mu = np.subtract(x, mu)\n",
    "    return scalar * np.exp(-np.dot(np.dot(x_sub_mu, np.linalg.inv(cov)), x_sub_mu.T) / 2.)"
   ]
  },
  {
   "cell_type": "code",
   "execution_count": 8,
   "metadata": {},
   "outputs": [],
   "source": [
    "def lda_predict(X,classes,means,cov_mats,priors):\n",
    "    \n",
    "    gaussian_likelihoods = []\n",
    "    for x in X:\n",
    "        row_vals = []\n",
    "        for clss in classes:\n",
    "            val = priors[clss]*calc_gaussian_dist(x,means[clss],cov_mats[clss])\n",
    "            row_vals.append(val)\n",
    "        gaussian_likelihoods.append(row_vals)\n",
    "    gaussian_likelihoods = np.asarray(gaussian_likelihoods)\n",
    "    predictions = np.argmax(gaussian_likelihoods, axis=1)\n",
    "    return predictions\n",
    "        "
   ]
  },
  {
   "cell_type": "code",
   "execution_count": 11,
   "metadata": {},
   "outputs": [],
   "source": [
    "def lda_classifier(x_train,y_train,x_val):\n",
    "    \n",
    "    means,cov_mats,priors = calc_gausian_params(x_train,y_train)\n",
    "    \n",
    "    preds = lda_predict(x_val,[0,1,2,3,4],means,cov_mats,priors)\n",
    "    return preds"
   ]
  },
  {
   "cell_type": "code",
   "execution_count": 15,
   "metadata": {},
   "outputs": [],
   "source": [
    "def calc_confusion_matrix(true, pred):\n",
    "    K = len(np.unique(true)) # Number of classes \n",
    "    result = np.zeros((K, K))\n",
    "\n",
    "    for i in range(len(true)):\n",
    "        result[true[i]][pred[i]] += 1\n",
    "\n",
    "    return result"
   ]
  },
  {
   "cell_type": "code",
   "execution_count": 16,
   "metadata": {},
   "outputs": [],
   "source": [
    "def plot_confusion_matrix(mat_confusion,to_save = False, filename = \"\"):\n",
    "    mat_confusion = np.intc(mat_confusion)\n",
    "    ax = sns.heatmap(mat_confusion,  annot=True, fmt='d', cbar=True, square=True)\n",
    "    if not to_save: \n",
    "        plt.show()\n",
    "    else:\n",
    "        plt.savefig(filename)\n"
   ]
  },
  {
   "cell_type": "code",
   "execution_count": 17,
   "metadata": {},
   "outputs": [],
   "source": [
    "def calc_precision(confusion_mat):\n",
    "    true_positive_dict = {}\n",
    "    false_positive_dict = {}\n",
    "    for i in range(confusion_mat.shape[1]):\n",
    "        true_positive_dict[i] = 0\n",
    "        false_positive_dict[i] = 0\n",
    "        for j in range(confusion_mat.shape[0]):\n",
    "            if i == j :\n",
    "                true_positive_dict[i] += confusion_mat[i,j]\n",
    "            else:\n",
    "                false_positive_dict[i] += confusion_mat[i,j]\n",
    "    precision_dict = {}\n",
    "    for i in range(confusion_mat.shape[1]):\n",
    "        precision_dict[i] = true_positive_dict[i]/( true_positive_dict[i] + false_positive_dict[i])  \n",
    "    return precision_dict\n",
    "            "
   ]
  },
  {
   "cell_type": "code",
   "execution_count": 18,
   "metadata": {},
   "outputs": [],
   "source": [
    "def calc_recall(confusion_mat):\n",
    "    true_positive_dict = {}\n",
    "    false_negative_dict = {}\n",
    "    for i in range(confusion_mat.shape[0]):\n",
    "        true_positive_dict[i] = 0\n",
    "        false_negative_dict[i] = 0\n",
    "        for j in range(confusion_mat.shape[1]):\n",
    "            if i == j :\n",
    "                true_positive_dict[i] += confusion_mat[j,i] \n",
    "            else:\n",
    "                false_negative_dict[i] += confusion_mat[j,i]\n",
    "    recall_dict = {}\n",
    "    for i in range(confusion_mat.shape[0]):\n",
    "        recall_dict[i] = true_positive_dict[i]/(true_positive_dict[i] + false_negative_dict[i])\n",
    "    return recall_dict\n",
    "                "
   ]
  },
  {
   "cell_type": "code",
   "execution_count": 19,
   "metadata": {},
   "outputs": [],
   "source": [
    "def calc_f1_score(prec_dict , recall_dict ):\n",
    "    f1_dict = {}\n",
    "    for i in range(len(prec_dict)):\n",
    "        f1_dict[i] = (2 * prec_dict[i] * recall_dict[i] ) / (prec_dict[i] + recall_dict[i])\n",
    "    return f1_dict"
   ]
  },
  {
   "cell_type": "code",
   "execution_count": 20,
   "metadata": {},
   "outputs": [],
   "source": [
    "def calc_for_mat(measure_dict):\n",
    "    return sum(measure_dict.values())/len(measure_dict)"
   ]
  },
  {
   "cell_type": "code",
   "execution_count": 21,
   "metadata": {},
   "outputs": [],
   "source": [
    "def avg_accuracy(confmat):\n",
    "    accuracy = []\n",
    "    for clss in range(5):\n",
    "        tp = 0\n",
    "        tn = 0\n",
    "        fp = 0\n",
    "        fn = 0\n",
    "        for i in range(confmat.shape[0]):\n",
    "            for j in range(confmat.shape[1]):\n",
    "                if i == clss and j == clss:\n",
    "                    tp = confmat[i,j]\n",
    "                elif i == clss:\n",
    "                    fp += confmat[i,j]\n",
    "                elif j == clss:\n",
    "                    fn += confmat[i,j]\n",
    "                else:\n",
    "                    tn += confmat[i,j]\n",
    "        #print(tp, tn, fn, fp)\n",
    "        accuracy.append((tp + tn) / (tp + tn + fp + fn))\n",
    "    return(sum(accuracy)/confmat.shape[0])"
   ]
  },
  {
   "cell_type": "code",
   "execution_count": 24,
   "metadata": {},
   "outputs": [],
   "source": [
    "def kfold(k):\n",
    "    f1_sum = 0\n",
    "    accuracy_sum = 0\n",
    "    conf_mats = np.zeros((5,5))\n",
    "    for i in range(k):\n",
    "        \n",
    "        datacopy = x_train.copy()\n",
    "        labelcopy = y_train.copy()\n",
    "        validtion = datacopy[ int( i * len( datacopy ) / k ) : int( ( i + 1 ) * len( datacopy ) / k ), : ]\n",
    "        validation_label = labelcopy[ int( i * len( datacopy ) / k ) : int( ( i + 1 ) * len( datacopy ) / k)]\n",
    "        train_data = np.delete( datacopy , list( range( int( i * len( datacopy ) / k ) ,\n",
    "                                                       int( ( i + 1 ) * len( datacopy ) / k ) ) ), axis=0 )\n",
    "        train_label = np.delete( labelcopy , list( range( int( i * len( datacopy ) / k ),\n",
    "                                                          int( ( i + 1 ) * len( datacopy ) / k ) ) ), axis=0)\n",
    "        preds = lda_classifier(train_data,train_label,validtion)\n",
    "    \n",
    "        confusion_mat = calc_confusion_matrix(validation_label,preds)\n",
    "        conf_mats += confusion_mat\n",
    "    return conf_mats\n"
   ]
  },
  {
   "cell_type": "code",
   "execution_count": 26,
   "metadata": {},
   "outputs": [],
   "source": [
    "con_mat= kfold(10)\n"
   ]
  },
  {
   "cell_type": "code",
   "execution_count": 27,
   "metadata": {},
   "outputs": [
    {
     "data": {
      "image/png": "[encoded data removed]",
      "text/plain": [
       "<Figure size 432x288 with 2 Axes>"
      ]
     },
     "metadata": {},
     "output_type": "display_data"
    }
   ],
   "source": [
    "plot_confusion_matrix(con_mat,to_save = True, filename = 'gaussian_confusion_mat_train')"
   ]
  },
  {
   "cell_type": "code",
   "execution_count": 28,
   "metadata": {},
   "outputs": [],
   "source": [
    "prec_dict = calc_precision(con_mat)"
   ]
  },
  {
   "cell_type": "code",
   "execution_count": 29,
   "metadata": {},
   "outputs": [],
   "source": [
    "recall_dict = calc_recall(con_mat)"
   ]
  },
  {
   "cell_type": "code",
   "execution_count": 30,
   "metadata": {},
   "outputs": [],
   "source": [
    "f1_dict = calc_f1_score(prec_dict,recall_dict)"
   ]
  },
  {
   "cell_type": "code",
   "execution_count": 31,
   "metadata": {},
   "outputs": [
    {
     "data": {
      "text/plain": [
       "0.8242962661916253"
      ]
     },
     "execution_count": 31,
     "metadata": {},
     "output_type": "execute_result"
    }
   ],
   "source": [
    "calc_for_mat(f1_dict)"
   ]
  },
  {
   "cell_type": "code",
   "execution_count": 32,
   "metadata": {},
   "outputs": [
    {
     "data": {
      "text/plain": [
       "0.8262208322196501"
      ]
     },
     "execution_count": 32,
     "metadata": {},
     "output_type": "execute_result"
    }
   ],
   "source": [
    "calc_for_mat(prec_dict)"
   ]
  },
  {
   "cell_type": "code",
   "execution_count": 33,
   "metadata": {},
   "outputs": [
    {
     "data": {
      "text/plain": [
       "0.8245401946735085"
      ]
     },
     "execution_count": 33,
     "metadata": {},
     "output_type": "execute_result"
    }
   ],
   "source": [
    "calc_for_mat(recall_dict)"
   ]
  },
  {
   "cell_type": "code",
   "execution_count": 35,
   "metadata": {},
   "outputs": [
    {
     "data": {
      "text/plain": [
       "0.9300799999999999"
      ]
     },
     "execution_count": 35,
     "metadata": {},
     "output_type": "execute_result"
    }
   ],
   "source": [
    "avg_accuracy(con_mat)"
   ]
  },
  {
   "cell_type": "code",
   "execution_count": 36,
   "metadata": {},
   "outputs": [
    {
     "data": {
      "image/png": "[encoded data removed]",
      "text/plain": [
       "<Figure size 432x288 with 2 Axes>"
      ]
     },
     "metadata": {},
     "output_type": "display_data"
    }
   ],
   "source": [
    "test_preds = lda_classifier(x_train,y_train,x_test)\n",
    "confusion_mat = calc_confusion_matrix(y_test,test_preds)\n",
    "plot_confusion_matrix(confusion_mat,to_save = True, filename = 'gaussian_confusion_mat_test')\n"
   ]
  },
  {
   "cell_type": "code",
   "execution_count": 37,
   "metadata": {},
   "outputs": [],
   "source": [
    "prec_dict = calc_precision(confusion_mat)"
   ]
  },
  {
   "cell_type": "code",
   "execution_count": 38,
   "metadata": {},
   "outputs": [
    {
     "data": {
      "text/plain": [
       "0.7828291974638045"
      ]
     },
     "execution_count": 38,
     "metadata": {},
     "output_type": "execute_result"
    }
   ],
   "source": [
    "recall_dict = calc_recall(confusion_mat)\n",
    "f1_dict = calc_f1_score(prec_dict,recall_dict)\n",
    "calc_for_mat(f1_dict)"
   ]
  },
  {
   "cell_type": "code",
   "execution_count": 39,
   "metadata": {},
   "outputs": [
    {
     "data": {
      "text/plain": [
       "0.7918320669284025"
      ]
     },
     "execution_count": 39,
     "metadata": {},
     "output_type": "execute_result"
    }
   ],
   "source": [
    "calc_for_mat(recall_dict)"
   ]
  },
  {
   "cell_type": "code",
   "execution_count": 40,
   "metadata": {},
   "outputs": [
    {
     "data": {
      "text/plain": [
       "0.7942"
      ]
     },
     "execution_count": 40,
     "metadata": {},
     "output_type": "execute_result"
    }
   ],
   "source": [
    "calc_for_mat(prec_dict)"
   ]
  },
  {
   "cell_type": "code",
   "execution_count": 41,
   "metadata": {},
   "outputs": [
    {
     "data": {
      "text/plain": [
       "0.91768"
      ]
     },
     "execution_count": 41,
     "metadata": {},
     "output_type": "execute_result"
    }
   ],
   "source": [
    "avg_accuracy(confusion_mat)"
   ]
  },
  {
   "cell_type": "code",
   "execution_count": null,
   "metadata": {},
   "outputs": [],
   "source": []
  }
 ],
 "metadata": {
  "kernelspec": {
   "display_name": "Python 3",
   "language": "python",
   "name": "python3"
  },
  "language_info": {
   "codemirror_mode": {
    "name": "ipython",
    "version": 3
   },
   "file_extension": ".py",
   "mimetype": "text/x-python",
   "name": "python",
   "nbconvert_exporter": "python",
   "pygments_lexer": "ipython3",
   "version": "3.6.7"
  }
 },
 "nbformat": 4,
 "nbformat_minor": 2
}
