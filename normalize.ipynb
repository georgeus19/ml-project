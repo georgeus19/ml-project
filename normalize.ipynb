{
 "cells": [
  {
   "cell_type": "code",
   "execution_count": 1,
   "metadata": {},
   "outputs": [],
   "source": [
    "import numpy as np\n",
    "import matplotlib.pyplot as plt\n",
    "%matplotlib inline"
   ]
  },
  {
   "cell_type": "code",
   "execution_count": 3,
   "metadata": {},
   "outputs": [],
   "source": [
    "def normalize(x, negative=False, inplace=False):\n",
    "    if inplace == True:\n",
    "        for i in range(x.shape[0]):\n",
    "            for j in range(x.shape[1]):\n",
    "                if negative == True:\n",
    "                    x[i,j] = 2*x[i,j] / 255 -1\n",
    "                else:\n",
    "                    x[i,j] = x[i,j]/255\n",
    "        return x\n",
    "    else:\n",
    "        newarray = np.ndarray(x.shape)\n",
    "        for i in range(x.shape[0]):\n",
    "            for j in range(x.shape[1]):\n",
    "                if negative == True:\n",
    "                    newarray[i,j] = 2*x[i,j] / 255 -1\n",
    "                else:\n",
    "                    newarray[i,j] = x[i,j]/ 255\n",
    "        return newarray"
   ]
  },
  {
   "cell_type": "code",
   "execution_count": 5,
   "metadata": {},
   "outputs": [
    {
     "data": {
      "text/plain": [
       "array([[0.        , 0.        , 0.        , ..., 0.        , 0.        ,\n",
       "        0.        ],\n",
       "       [0.        , 0.        , 0.        , ..., 0.        , 0.        ,\n",
       "        0.        ],\n",
       "       [0.        , 0.        , 0.        , ..., 0.        , 0.        ,\n",
       "        0.        ],\n",
       "       ...,\n",
       "       [0.        , 0.        , 0.        , ..., 0.02745098, 0.        ,\n",
       "        0.        ],\n",
       "       [0.        , 0.        , 0.        , ..., 0.        , 0.        ,\n",
       "        0.        ],\n",
       "       [0.        , 0.        , 0.        , ..., 0.13333333, 0.        ,\n",
       "        0.        ]])"
      ]
     },
     "execution_count": 5,
     "metadata": {},
     "output_type": "execute_result"
    }
   ],
   "source": [
    "fulldata = np.load(\"fashion_test.npy\")\n",
    "data = fulldata[:,:-1]\n",
    "normal_test = normalize(data)\n",
    "np.save('normalized_test',normal_test)\n",
    "normal_test"
   ]
  },
  {
   "cell_type": "code",
   "execution_count": null,
   "metadata": {},
   "outputs": [],
   "source": []
  },
  {
   "cell_type": "code",
   "execution_count": 5,
   "metadata": {},
   "outputs": [],
   "source": [
    "def windowfilter(x, kernel, imgdim=28):\n",
    "    margin = int(np.floor(kernel.shape[0] / 2))\n",
    "    retarray = np.ndarray(x.shape)\n",
    "    for img in range(x.shape[0]):\n",
    "        tempimg = np.reshape(x[img], (imgdim, imgdim))\n",
    "        rescoredimg = np.zeros((imgdim, imgdim))\n",
    "        #copy original border pixels\n",
    "        for i in range(-margin, margin):\n",
    "            rescoredimg[i] = tempimg[i]\n",
    "            rescoredimg.T[i] = tempimg.T[i]\n",
    "        for ridx in range(margin, imgdim-margin):\n",
    "            for cidx in range(margin, imgdim-margin):\n",
    "                local = []\n",
    "                for i, kr in enumerate(range(-margin, margin+1)):\n",
    "                    for j, kc in enumerate(range(-margin, margin+1)):\n",
    "                        local.append(tempimg[ridx+kr,cidx+kr]*kernel[i,j])\n",
    "                #print(sum(local))\n",
    "                rescoredimg[ridx,cidx] = sum(local)/np.sum(kernel)\n",
    "        retarray[img] = rescoredimg.flatten()\n",
    "    return retarray\n",
    "    \n",
    "                "
   ]
  },
  {
   "cell_type": "code",
   "execution_count": null,
   "metadata": {},
   "outputs": [],
   "source": [
    "gk3 = np.array([[1, 2, 1], [2, 4, 2], [1, 2, 1]])\n",
    "gk5 = np.array([[1, 4, 6, 4, 1], [4, 16, 24, 16, 4], [6, 24, 36, 24, 6], \\\n",
    "               [4, 16, 24, 16, 4], [1, 4, 6, 4, 1]])"
   ]
  },
  {
   "cell_type": "code",
   "execution_count": 157,
   "metadata": {
    "scrolled": true
   },
   "outputs": [],
   "source": [
    "lowpassed = windowfilter(data,gk5)"
   ]
  },
  {
   "cell_type": "code",
   "execution_count": 100,
   "metadata": {},
   "outputs": [],
   "source": [
    "#https://github.com/jmlipman/LAID/blob/master/IP/Otsu/otsu.py\n",
    "def otsu(x):\n",
    "    thrlist = []\n",
    "    for i in x:\n",
    "        [hist, _] = np.histogram(i, bins=256, range=(0, 1))\n",
    "        hist = 1.0*hist/np.sum(hist)\n",
    "        val_max = -999\n",
    "        thr = -1\n",
    "        for t in range(1,255):\n",
    "            # Non-efficient implementation\n",
    "            q1 = np.sum(hist[:t])\n",
    "            q2 = np.sum(hist[t:])\n",
    "            m1 = np.sum(np.array([i for i in range(t)])*hist[:t])/q1\n",
    "            m2 = np.sum(np.array([i for i in range(t,256)])*hist[t:])/q2\n",
    "            val = q1*(1-q1)*np.power(m1-m2,2)\n",
    "            if val_max < val:\n",
    "                val_max = val\n",
    "                thr = t\n",
    "        thrlist.append(thr/255)\n",
    "    return thrlist"
   ]
  },
  {
   "cell_type": "code",
   "execution_count": 154,
   "metadata": {},
   "outputs": [
    {
     "name": "stderr",
     "output_type": "stream",
     "text": [
      "/usr/lib/python3/dist-packages/ipykernel_launcher.py:14: RuntimeWarning: invalid value encountered in double_scalars\n",
      "  \n"
     ]
    }
   ],
   "source": [
    "thr = otsu(lowpassed)"
   ]
  },
  {
   "cell_type": "code",
   "execution_count": 131,
   "metadata": {},
   "outputs": [],
   "source": [
    "def thresholding(x, thrlist):\n",
    "    out = np.ndarray(x.shape)\n",
    "    for row in range(x.shape[0]):\n",
    "        for col in range(x.shape[1]):\n",
    "            if  x[row,col] <= thrlist[row]:\n",
    "                out[row,col] = 0\n",
    "            else:\n",
    "                out[row,col] = 1\n",
    "    return out"
   ]
  },
  {
   "cell_type": "code",
   "execution_count": 155,
   "metadata": {},
   "outputs": [],
   "source": [
    "trashed = thresholding(lowpassed, thr)"
   ]
  },
  {
   "cell_type": "code",
   "execution_count": 160,
   "metadata": {},
   "outputs": [],
   "source": [
    "#if you wanna look at an image after thresholding\n",
    "from PIL import Image\n",
    "\n",
    "im = np.reshape(trashed[2], (28, 28))\n",
    "img = Image.fromarray(im)\n",
    "img = img.convert(\"L\")\n",
    "img.save(\"thrtest2.png\")"
   ]
  },
  {
   "cell_type": "code",
   "execution_count": 156,
   "metadata": {},
   "outputs": [],
   "source": [
    "np.save(\"gauss5_binary01.npy\", trashed)"
   ]
  }
 ],
 "metadata": {
  "kernelspec": {
   "display_name": "Python 3",
   "language": "python",
   "name": "python3"
  },
  "language_info": {
   "codemirror_mode": {
    "name": "ipython",
    "version": 3
   },
   "file_extension": ".py",
   "mimetype": "text/x-python",
   "name": "python",
   "nbconvert_exporter": "python",
   "pygments_lexer": "ipython3",
   "version": "3.6.7"
  }
 },
 "nbformat": 4,
 "nbformat_minor": 2
}
